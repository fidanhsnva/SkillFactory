{
  "cells": [
    {
      "cell_type": "markdown",
      "metadata": {
        "id": "view-in-github",
        "colab_type": "text"
      },
      "source": [
        "<a href=\"https://colab.research.google.com/github/fidanhsnva/SkillFactory/blob/main/Copy_%22DSF_ASOS_Build_and_Deploy_a_Recommender_in_3_Hours_ipynb%22.ipynb\" target=\"_parent\"><img src=\"https://colab.research.google.com/assets/colab-badge.svg\" alt=\"Open In Colab\"/></a>"
      ]
    },
    {
      "cell_type": "markdown",
      "metadata": {
        "id": "oNhnn2jZSgT9"
      },
      "source": [
        "# Data Science Festival x ASOS\n",
        "## Build and Deploy a Recommender System in 3 Hours."
      ]
    },
    {
      "cell_type": "markdown",
      "metadata": {
        "id": "418WUxvnSgUC"
      },
      "source": [
        "# Imports"
      ]
    },
    {
      "cell_type": "code",
      "execution_count": null,
      "metadata": {
        "id": "PNYu6MMzSgUD"
      },
      "outputs": [],
      "source": [
        "import numpy as np\n",
        "import pandas as pd\n",
        "import tensorflow as tf\n",
        "import os"
      ]
    },
    {
      "cell_type": "markdown",
      "metadata": {
        "id": "K6ylinWoSgUF"
      },
      "source": [
        "# Import training data"
      ]
    },
    {
      "cell_type": "code",
      "execution_count": null,
      "metadata": {
        "id": "xDvYCrQ0SgUG"
      },
      "outputs": [],
      "source": [
        "train = pd.read_parquet(\"https://raw.githubusercontent.com/ASOS/dsf2020/main/dsf_asos_train_with_alphanumeric_dummy_ids.parquet\")\n",
        "valid = pd.read_parquet(\"https://raw.githubusercontent.com/ASOS/dsf2020/main/dsf_asos_valid_with_alphanumeric_dummy_ids.parquet\")\n",
        "dummy_users = pd.read_csv(\"https://raw.githubusercontent.com/ASOS/dsf2020/main/dsf_asos_dummy_users_with_alphanumeric_dummy_ids.csv\", header=None).values.flatten().astype(str)\n",
        "products = pd.read_csv(\"https://raw.githubusercontent.com/ASOS/dsf2020/main/dsf_asos_productIds.csv\", header=None).values.flatten().astype(int)"
      ]
    },
    {
      "cell_type": "code",
      "source": [
        "train.head()"
      ],
      "metadata": {
        "id": "nZvWYs9OUNfg",
        "outputId": "6534e608-b695-4966-92ba-42a70f32c3ca",
        "colab": {
          "base_uri": "https://localhost:8080/",
          "height": 206
        }
      },
      "execution_count": null,
      "outputs": [
        {
          "output_type": "execute_result",
          "data": {
            "text/plain": [
              "               dummyUserId  productId\n",
              "0  b'PIXcm7Ru5KmntCy0yA1K'   10524048\n",
              "1  b'd0RILFB1hUzNSINMY4Ow'    9137713\n",
              "2  b'Ebax7lyhnKRm4xeRlWW2'    5808602\n",
              "3  b'vtigDw2h2vxKt0sJpEeU'   10548272\n",
              "4  b'r4GfiEaUGxziyjX0PyU6'   10988173"
            ],
            "text/html": [
              "\n",
              "  <div id=\"df-b6f26437-fa9b-499f-a966-16fbe299f413\">\n",
              "    <div class=\"colab-df-container\">\n",
              "      <div>\n",
              "<style scoped>\n",
              "    .dataframe tbody tr th:only-of-type {\n",
              "        vertical-align: middle;\n",
              "    }\n",
              "\n",
              "    .dataframe tbody tr th {\n",
              "        vertical-align: top;\n",
              "    }\n",
              "\n",
              "    .dataframe thead th {\n",
              "        text-align: right;\n",
              "    }\n",
              "</style>\n",
              "<table border=\"1\" class=\"dataframe\">\n",
              "  <thead>\n",
              "    <tr style=\"text-align: right;\">\n",
              "      <th></th>\n",
              "      <th>dummyUserId</th>\n",
              "      <th>productId</th>\n",
              "    </tr>\n",
              "  </thead>\n",
              "  <tbody>\n",
              "    <tr>\n",
              "      <th>0</th>\n",
              "      <td>b'PIXcm7Ru5KmntCy0yA1K'</td>\n",
              "      <td>10524048</td>\n",
              "    </tr>\n",
              "    <tr>\n",
              "      <th>1</th>\n",
              "      <td>b'd0RILFB1hUzNSINMY4Ow'</td>\n",
              "      <td>9137713</td>\n",
              "    </tr>\n",
              "    <tr>\n",
              "      <th>2</th>\n",
              "      <td>b'Ebax7lyhnKRm4xeRlWW2'</td>\n",
              "      <td>5808602</td>\n",
              "    </tr>\n",
              "    <tr>\n",
              "      <th>3</th>\n",
              "      <td>b'vtigDw2h2vxKt0sJpEeU'</td>\n",
              "      <td>10548272</td>\n",
              "    </tr>\n",
              "    <tr>\n",
              "      <th>4</th>\n",
              "      <td>b'r4GfiEaUGxziyjX0PyU6'</td>\n",
              "      <td>10988173</td>\n",
              "    </tr>\n",
              "  </tbody>\n",
              "</table>\n",
              "</div>\n",
              "      <button class=\"colab-df-convert\" onclick=\"convertToInteractive('df-b6f26437-fa9b-499f-a966-16fbe299f413')\"\n",
              "              title=\"Convert this dataframe to an interactive table.\"\n",
              "              style=\"display:none;\">\n",
              "        \n",
              "  <svg xmlns=\"http://www.w3.org/2000/svg\" height=\"24px\"viewBox=\"0 0 24 24\"\n",
              "       width=\"24px\">\n",
              "    <path d=\"M0 0h24v24H0V0z\" fill=\"none\"/>\n",
              "    <path d=\"M18.56 5.44l.94 2.06.94-2.06 2.06-.94-2.06-.94-.94-2.06-.94 2.06-2.06.94zm-11 1L8.5 8.5l.94-2.06 2.06-.94-2.06-.94L8.5 2.5l-.94 2.06-2.06.94zm10 10l.94 2.06.94-2.06 2.06-.94-2.06-.94-.94-2.06-.94 2.06-2.06.94z\"/><path d=\"M17.41 7.96l-1.37-1.37c-.4-.4-.92-.59-1.43-.59-.52 0-1.04.2-1.43.59L10.3 9.45l-7.72 7.72c-.78.78-.78 2.05 0 2.83L4 21.41c.39.39.9.59 1.41.59.51 0 1.02-.2 1.41-.59l7.78-7.78 2.81-2.81c.8-.78.8-2.07 0-2.86zM5.41 20L4 18.59l7.72-7.72 1.47 1.35L5.41 20z\"/>\n",
              "  </svg>\n",
              "      </button>\n",
              "      \n",
              "  <style>\n",
              "    .colab-df-container {\n",
              "      display:flex;\n",
              "      flex-wrap:wrap;\n",
              "      gap: 12px;\n",
              "    }\n",
              "\n",
              "    .colab-df-convert {\n",
              "      background-color: #E8F0FE;\n",
              "      border: none;\n",
              "      border-radius: 50%;\n",
              "      cursor: pointer;\n",
              "      display: none;\n",
              "      fill: #1967D2;\n",
              "      height: 32px;\n",
              "      padding: 0 0 0 0;\n",
              "      width: 32px;\n",
              "    }\n",
              "\n",
              "    .colab-df-convert:hover {\n",
              "      background-color: #E2EBFA;\n",
              "      box-shadow: 0px 1px 2px rgba(60, 64, 67, 0.3), 0px 1px 3px 1px rgba(60, 64, 67, 0.15);\n",
              "      fill: #174EA6;\n",
              "    }\n",
              "\n",
              "    [theme=dark] .colab-df-convert {\n",
              "      background-color: #3B4455;\n",
              "      fill: #D2E3FC;\n",
              "    }\n",
              "\n",
              "    [theme=dark] .colab-df-convert:hover {\n",
              "      background-color: #434B5C;\n",
              "      box-shadow: 0px 1px 3px 1px rgba(0, 0, 0, 0.15);\n",
              "      filter: drop-shadow(0px 1px 2px rgba(0, 0, 0, 0.3));\n",
              "      fill: #FFFFFF;\n",
              "    }\n",
              "  </style>\n",
              "\n",
              "      <script>\n",
              "        const buttonEl =\n",
              "          document.querySelector('#df-b6f26437-fa9b-499f-a966-16fbe299f413 button.colab-df-convert');\n",
              "        buttonEl.style.display =\n",
              "          google.colab.kernel.accessAllowed ? 'block' : 'none';\n",
              "\n",
              "        async function convertToInteractive(key) {\n",
              "          const element = document.querySelector('#df-b6f26437-fa9b-499f-a966-16fbe299f413');\n",
              "          const dataTable =\n",
              "            await google.colab.kernel.invokeFunction('convertToInteractive',\n",
              "                                                     [key], {});\n",
              "          if (!dataTable) return;\n",
              "\n",
              "          const docLinkHtml = 'Like what you see? Visit the ' +\n",
              "            '<a target=\"_blank\" href=https://colab.research.google.com/notebooks/data_table.ipynb>data table notebook</a>'\n",
              "            + ' to learn more about interactive tables.';\n",
              "          element.innerHTML = '';\n",
              "          dataTable['output_type'] = 'display_data';\n",
              "          await google.colab.output.renderOutput(dataTable, element);\n",
              "          const docLink = document.createElement('div');\n",
              "          docLink.innerHTML = docLinkHtml;\n",
              "          element.appendChild(docLink);\n",
              "        }\n",
              "      </script>\n",
              "    </div>\n",
              "  </div>\n",
              "  "
            ]
          },
          "metadata": {},
          "execution_count": 3
        }
      ]
    },
    {
      "cell_type": "markdown",
      "metadata": {
        "id": "lkYMhP6HSgUH"
      },
      "source": [
        "# The briefest intro to tf"
      ]
    },
    {
      "cell_type": "markdown",
      "metadata": {
        "id": "mlZNLesISgUH"
      },
      "source": [
        "Tensors"
      ]
    },
    {
      "cell_type": "code",
      "execution_count": null,
      "metadata": {
        "id": "7rsjxSKLSgUI",
        "outputId": "bf83cd34-246c-4132-fec6-e50a3b434b1a",
        "colab": {
          "base_uri": "https://localhost:8080/"
        }
      },
      "outputs": [
        {
          "output_type": "execute_result",
          "data": {
            "text/plain": [
              "<tf.Tensor: shape=(4,), dtype=int32, numpy=array([ 1,  4,  9, 16], dtype=int32)>"
            ]
          },
          "metadata": {},
          "execution_count": 4
        }
      ],
      "source": [
        "x = tf.constant([1,2,3,4])\n",
        "tf.math.square(x)"
      ]
    },
    {
      "cell_type": "code",
      "source": [
        "tf.constant([[1,2,3],[4,5,6]], dtype = tf.float32)"
      ],
      "metadata": {
        "id": "tdB5s_NtVyCT",
        "outputId": "06cf6d16-423e-4b92-e5e9-f594c92c6296",
        "colab": {
          "base_uri": "https://localhost:8080/"
        }
      },
      "execution_count": null,
      "outputs": [
        {
          "output_type": "execute_result",
          "data": {
            "text/plain": [
              "<tf.Tensor: shape=(2, 3), dtype=float32, numpy=\n",
              "array([[1., 2., 3.],\n",
              "       [4., 5., 6.]], dtype=float32)>"
            ]
          },
          "metadata": {},
          "execution_count": 6
        }
      ]
    },
    {
      "cell_type": "code",
      "source": [
        "x = tf.Variable([1,2,3,4], dtype = tf.float32)\n",
        "x"
      ],
      "metadata": {
        "id": "Tnb1bpayWJur",
        "outputId": "1e005e01-2965-4612-d1b7-a0099510b95a",
        "colab": {
          "base_uri": "https://localhost:8080/"
        }
      },
      "execution_count": null,
      "outputs": [
        {
          "output_type": "execute_result",
          "data": {
            "text/plain": [
              "<tf.Variable 'Variable:0' shape=(4,) dtype=float32, numpy=array([1., 2., 3., 4.], dtype=float32)>"
            ]
          },
          "metadata": {},
          "execution_count": 9
        }
      ]
    },
    {
      "cell_type": "markdown",
      "metadata": {
        "id": "YcCvUrLLSgUI"
      },
      "source": [
        "Gradients"
      ]
    },
    {
      "cell_type": "code",
      "execution_count": null,
      "metadata": {
        "id": "aG_32nN1SgUJ"
      },
      "outputs": [],
      "source": [
        "with tf.GradientTape() as tape:\n",
        "  y = tf.math.square(x)"
      ]
    },
    {
      "cell_type": "code",
      "source": [
        "y"
      ],
      "metadata": {
        "id": "1CWZ3JyGXAWj",
        "outputId": "c6d0c854-4f9d-4faf-8e69-9dae658f2e8f",
        "colab": {
          "base_uri": "https://localhost:8080/"
        }
      },
      "execution_count": null,
      "outputs": [
        {
          "output_type": "execute_result",
          "data": {
            "text/plain": [
              "<tf.Tensor: shape=(4,), dtype=float32, numpy=array([ 1.,  4.,  9., 16.], dtype=float32)>"
            ]
          },
          "metadata": {},
          "execution_count": 12
        }
      ]
    },
    {
      "cell_type": "code",
      "source": [
        "dy_dx = tape.gradient(y,x)\n",
        "dy_dx"
      ],
      "metadata": {
        "id": "CdyHwCYwXJ9D",
        "outputId": "38c16382-a705-4e4a-f8c1-d94dc4d08506",
        "colab": {
          "base_uri": "https://localhost:8080/"
        }
      },
      "execution_count": null,
      "outputs": [
        {
          "output_type": "execute_result",
          "data": {
            "text/plain": [
              "<tf.Tensor: shape=(4,), dtype=float32, numpy=array([2., 4., 6., 8.], dtype=float32)>"
            ]
          },
          "metadata": {},
          "execution_count": 13
        }
      ]
    },
    {
      "cell_type": "markdown",
      "metadata": {
        "id": "5rHIpZYFSgUJ"
      },
      "source": [
        "Multiply and add tensors"
      ]
    },
    {
      "cell_type": "code",
      "execution_count": null,
      "metadata": {
        "id": "AU-yv-R-SgUK"
      },
      "outputs": [],
      "source": [
        "x = tf.constant([[1,2,3]], dtype=tf.float32)\n",
        "Y = tf.constant([[1,2,3, 4], [1,2,3,4], [1,2,3,4]], dtype=tf.float32)"
      ]
    },
    {
      "cell_type": "code",
      "execution_count": null,
      "metadata": {
        "id": "IAiBYotUSgUK",
        "outputId": "fcb8a55c-3930-41b2-b0f5-a45315b61a65",
        "colab": {
          "base_uri": "https://localhost:8080/"
        }
      },
      "outputs": [
        {
          "output_type": "execute_result",
          "data": {
            "text/plain": [
              "<tf.Tensor: shape=(1, 4), dtype=float32, numpy=array([[ 6., 12., 18., 24.]], dtype=float32)>"
            ]
          },
          "metadata": {},
          "execution_count": 16
        }
      ],
      "source": [
        "tf.matmul(x,Y)"
      ]
    },
    {
      "cell_type": "code",
      "execution_count": null,
      "metadata": {
        "id": "j0uJpZqpSgUK"
      },
      "outputs": [],
      "source": [
        "z = tf.constant([10, 11, 12, 13], dtype=tf.float32)"
      ]
    },
    {
      "cell_type": "code",
      "source": [
        "tf.matmul(x, Y) + z"
      ],
      "metadata": {
        "id": "dh_oPkX5ZdIP",
        "outputId": "37eb7594-621e-439f-f827-0faa61fae042",
        "colab": {
          "base_uri": "https://localhost:8080/"
        }
      },
      "execution_count": null,
      "outputs": [
        {
          "output_type": "execute_result",
          "data": {
            "text/plain": [
              "<tf.Tensor: shape=(1, 4), dtype=float32, numpy=array([[16., 23., 30., 37.]], dtype=float32)>"
            ]
          },
          "metadata": {},
          "execution_count": 18
        }
      ]
    },
    {
      "cell_type": "markdown",
      "metadata": {
        "id": "2MyO1MdGSgUL"
      },
      "source": [
        "This operation is very common in deep learning, so it has been abstracted:"
      ]
    },
    {
      "cell_type": "code",
      "execution_count": null,
      "metadata": {
        "id": "1dYS6eI1SgUM",
        "outputId": "8d4a4a2f-db55-4ca0-ae0c-0a6abc21fe88",
        "colab": {
          "base_uri": "https://localhost:8080/"
        }
      },
      "outputs": [
        {
          "output_type": "execute_result",
          "data": {
            "text/plain": [
              "<tf.Tensor: shape=(1, 4), dtype=float32, numpy=array([[16., 23., 30., 37.]], dtype=float32)>"
            ]
          },
          "metadata": {},
          "execution_count": 19
        }
      ],
      "source": [
        "dl1 = tf.keras.layers.Dense(4, use_bias = True, weights = [Y,z])\n",
        "dl1(x)"
      ]
    },
    {
      "cell_type": "markdown",
      "metadata": {
        "id": "yIuHdYFRSgUM"
      },
      "source": [
        "You can choose to apply a function to each value in the output"
      ]
    },
    {
      "cell_type": "code",
      "execution_count": null,
      "metadata": {
        "id": "LzcA1xTlSgUM",
        "outputId": "ddb1ea15-4875-45f9-b207-4cfd75e611dd",
        "colab": {
          "base_uri": "https://localhost:8080/"
        }
      },
      "outputs": [
        {
          "output_type": "execute_result",
          "data": {
            "text/plain": [
              "<tf.Tensor: shape=(1, 4), dtype=float32, numpy=array([[17., 24., 31., 38.]], dtype=float32)>"
            ]
          },
          "metadata": {},
          "execution_count": 8
        }
      ],
      "source": [
        "dl2 = tf.keras.layers.Dense(4, use_bias = True, weights = [Y,z], activation = lambda x:x+1)\n",
        "dl2(x)"
      ]
    },
    {
      "cell_type": "markdown",
      "metadata": {
        "id": "8VPpoh9sSgUN"
      },
      "source": [
        "We can put different layers together in a sequence:"
      ]
    },
    {
      "cell_type": "code",
      "execution_count": null,
      "metadata": {
        "id": "c8Cq-6_kSgUN"
      },
      "outputs": [],
      "source": [
        "dl3 = tf.keras.layers.Dense(1, use_bias=False, \\\n",
        "                             weights=[tf.constant([[0], [1], [0], [1]], \\\n",
        "                                                  dtype=tf.float32)])"
      ]
    },
    {
      "cell_type": "code",
      "execution_count": null,
      "metadata": {
        "id": "ornjZEyfSgUO",
        "outputId": "f077ae70-8350-454d-e43a-b95f390b2137",
        "colab": {
          "base_uri": "https://localhost:8080/"
        }
      },
      "outputs": [
        {
          "output_type": "execute_result",
          "data": {
            "text/plain": [
              "<tf.Tensor: shape=(1, 4), dtype=float32, numpy=array([[17., 24., 31., 38.]], dtype=float32)>"
            ]
          },
          "metadata": {},
          "execution_count": 9
        }
      ],
      "source": [
        "x_b = dl2(x)\n",
        "x_b"
      ]
    },
    {
      "cell_type": "code",
      "source": [
        "dl3(x_b)"
      ],
      "metadata": {
        "id": "GBg_wpA1bPBf",
        "outputId": "23d1e15f-a0ca-4183-e9f7-60bd5e4e35ca",
        "colab": {
          "base_uri": "https://localhost:8080/"
        }
      },
      "execution_count": null,
      "outputs": [
        {
          "output_type": "execute_result",
          "data": {
            "text/plain": [
              "<tf.Tensor: shape=(1, 1), dtype=float32, numpy=array([[62.]], dtype=float32)>"
            ]
          },
          "metadata": {},
          "execution_count": 24
        }
      ]
    },
    {
      "cell_type": "markdown",
      "metadata": {
        "id": "W2xITshiSgUO"
      },
      "source": [
        "We can get more flexibility if you use tf.keras.model:"
      ]
    },
    {
      "cell_type": "code",
      "execution_count": null,
      "metadata": {
        "id": "V5-Vj8npSgUO"
      },
      "outputs": [],
      "source": [
        "class simple_model(tf.keras.Model):\n",
        "  def __init__(self):\n",
        "      super(simple_model,self).__init__()\n",
        "      self.dl2 = tf.keras.layers.Dense(4, use_bias = True, weights = [Y,z], activation = lambda x:x+1)\n",
        "      self.dl3 = tf.keras.layers.Dense(1, use_bias=False, \\\n",
        "                             weights=[tf.constant([[0], [1], [0], [1]], \\\n",
        "                                                  dtype=tf.float32)])\n",
        "  def call(self,x):\n",
        "    x_b = self.dl2(x)\n",
        "    return self.dl3(x_b)"
      ]
    },
    {
      "cell_type": "code",
      "source": [
        "sm =simple_model()\n",
        "sm(x)"
      ],
      "metadata": {
        "id": "5oDpyZ9zdk97",
        "outputId": "9f4622bf-0d44-42ab-86b2-70d2e4f55265",
        "colab": {
          "base_uri": "https://localhost:8080/"
        }
      },
      "execution_count": null,
      "outputs": [
        {
          "output_type": "execute_result",
          "data": {
            "text/plain": [
              "<tf.Tensor: shape=(1, 1), dtype=float32, numpy=array([[62.]], dtype=float32)>"
            ]
          },
          "metadata": {},
          "execution_count": 11
        }
      ]
    },
    {
      "cell_type": "markdown",
      "metadata": {
        "id": "92KSESy7SgUP"
      },
      "source": [
        "So far we have been setting the weights of the dense layers, but if we don't set the weights than weights get randomly chosen."
      ]
    },
    {
      "cell_type": "code",
      "execution_count": null,
      "metadata": {
        "id": "uBaoSLLaSgUP",
        "outputId": "0ac77108-5879-4025-c398-1c7ac0f81c3a",
        "colab": {
          "base_uri": "https://localhost:8080/"
        }
      },
      "outputs": [
        {
          "output_type": "execute_result",
          "data": {
            "text/plain": [
              "<tf.Tensor: shape=(1, 4), dtype=float32, numpy=array([[-3.0293803,  3.0663497,  2.1233385,  0.4467895]], dtype=float32)>"
            ]
          },
          "metadata": {},
          "execution_count": 28
        }
      ],
      "source": [
        "dl6 = tf.keras.layers.Dense(4, use_bias=True)\n",
        "dl6(x)"
      ]
    },
    {
      "cell_type": "code",
      "execution_count": null,
      "metadata": {
        "id": "gIXwc-UNSgUP",
        "outputId": "cd22c6b5-312d-4b62-b85d-0655c1313b31",
        "colab": {
          "base_uri": "https://localhost:8080/"
        }
      },
      "outputs": [
        {
          "output_type": "execute_result",
          "data": {
            "text/plain": [
              "[array([[-0.7639469 ,  0.2881403 , -0.9216829 ,  0.7368721 ],\n",
              "        [-0.39119112,  0.33316886,  0.19552743,  0.60128915],\n",
              "        [-0.49435034,  0.7039572 ,  0.8846555 , -0.49755362]],\n",
              "       dtype=float32), array([0., 0., 0., 0.], dtype=float32)]"
            ]
          },
          "metadata": {},
          "execution_count": 29
        }
      ],
      "source": [
        "dl6.get_weights()"
      ]
    },
    {
      "cell_type": "markdown",
      "metadata": {
        "id": "Cd36ffTHSgUQ"
      },
      "source": [
        "# Define a Recommender Model"
      ]
    },
    {
      "cell_type": "markdown",
      "metadata": {
        "id": "DBusrRzKSgUQ"
      },
      "source": [
        "The embedding layer gives a list of random numbers for each user and each product."
      ]
    },
    {
      "cell_type": "code",
      "execution_count": null,
      "metadata": {
        "id": "kz8J44ekSgUQ"
      },
      "outputs": [],
      "source": [
        "embed1 = tf.keras.layers.Embedding(5,8)"
      ]
    },
    {
      "cell_type": "code",
      "source": [
        "embed1(2)"
      ],
      "metadata": {
        "id": "Z_NS27PVhRPI",
        "outputId": "65106938-2c83-44c2-c2d5-23288a0a820b",
        "colab": {
          "base_uri": "https://localhost:8080/"
        }
      },
      "execution_count": null,
      "outputs": [
        {
          "output_type": "execute_result",
          "data": {
            "text/plain": [
              "<tf.Tensor: shape=(8,), dtype=float32, numpy=\n",
              "array([ 0.03939882, -0.01750051,  0.01049685, -0.01101388, -0.04074287,\n",
              "        0.02474223,  0.03345439, -0.02648175], dtype=float32)>"
            ]
          },
          "metadata": {},
          "execution_count": 8
        }
      ]
    },
    {
      "cell_type": "code",
      "source": [
        "embed1.get_weights()"
      ],
      "metadata": {
        "id": "78KD8Fhlhbcb",
        "outputId": "1b48835d-6a0e-4bdb-e84f-05e898327c0e",
        "colab": {
          "base_uri": "https://localhost:8080/"
        }
      },
      "execution_count": null,
      "outputs": [
        {
          "output_type": "execute_result",
          "data": {
            "text/plain": [
              "[array([[ 0.04565668,  0.01802614,  0.00982577, -0.02069373,  0.01467462,\n",
              "         -0.03788229, -0.00402718, -0.04378853],\n",
              "        [ 0.02671686,  0.01625851, -0.03203268,  0.0487585 ,  0.02778449,\n",
              "         -0.03032959,  0.0191387 , -0.00617224],\n",
              "        [ 0.03939882, -0.01750051,  0.01049685, -0.01101388, -0.04074287,\n",
              "          0.02474223,  0.03345439, -0.02648175],\n",
              "        [ 0.02966264, -0.04565565, -0.0109917 ,  0.03751875,  0.01568342,\n",
              "          0.04338393,  0.02583126, -0.02735187],\n",
              "        [-0.03690867, -0.02768832, -0.00021479, -0.00683592, -0.0309788 ,\n",
              "         -0.01464746,  0.04721781, -0.0290182 ]], dtype=float32)]"
            ]
          },
          "metadata": {},
          "execution_count": 9
        }
      ]
    },
    {
      "cell_type": "markdown",
      "metadata": {
        "id": "VmCrPJytSgUQ"
      },
      "source": [
        "Scores can be found using the dot product."
      ]
    },
    {
      "cell_type": "code",
      "execution_count": null,
      "metadata": {
        "id": "7Msv_tlGSgUQ"
      },
      "outputs": [],
      "source": [
        "dummy_user_embedding = tf.keras.layers.Embedding(len(dummy_users), 6)\n",
        "product_embedding = tf.keras.layers.Embedding(len(products), 6)"
      ]
    },
    {
      "cell_type": "code",
      "source": [
        "dummy_user_embedding(1)"
      ],
      "metadata": {
        "id": "JILo-cITiZLt",
        "outputId": "c6b27e44-8d47-4413-948b-e5bf35fc9dfa",
        "colab": {
          "base_uri": "https://localhost:8080/"
        }
      },
      "execution_count": null,
      "outputs": [
        {
          "output_type": "execute_result",
          "data": {
            "text/plain": [
              "<tf.Tensor: shape=(6,), dtype=float32, numpy=\n",
              "array([ 0.03028536,  0.0169034 , -0.01579468,  0.00061264, -0.00901758,\n",
              "       -0.02777898], dtype=float32)>"
            ]
          },
          "metadata": {},
          "execution_count": 11
        }
      ]
    },
    {
      "cell_type": "code",
      "source": [
        "product_embedding(99)"
      ],
      "metadata": {
        "id": "da_o6Fo6ibax",
        "outputId": "b95ea8d6-3cc1-453f-f7e1-7a52884368f5",
        "colab": {
          "base_uri": "https://localhost:8080/"
        }
      },
      "execution_count": null,
      "outputs": [
        {
          "output_type": "execute_result",
          "data": {
            "text/plain": [
              "<tf.Tensor: shape=(6,), dtype=float32, numpy=\n",
              "array([-0.01741489,  0.01391072,  0.01982859, -0.00024699,  0.00224771,\n",
              "       -0.00315019], dtype=float32)>"
            ]
          },
          "metadata": {},
          "execution_count": 16
        }
      ]
    },
    {
      "cell_type": "code",
      "source": [
        "tf.tensordot(dummy_user_embedding(1),product_embedding(99), axes = [[0],[0]])"
      ],
      "metadata": {
        "id": "sNZjWgerip5k",
        "outputId": "e71ab404-2eab-474f-9ed9-b5b70e675420",
        "colab": {
          "base_uri": "https://localhost:8080/"
        }
      },
      "execution_count": null,
      "outputs": [
        {
          "output_type": "execute_result",
          "data": {
            "text/plain": [
              "<tf.Tensor: shape=(), dtype=float32, numpy=-0.0010469843>"
            ]
          },
          "metadata": {},
          "execution_count": 13
        }
      ]
    },
    {
      "cell_type": "markdown",
      "metadata": {
        "id": "vA60GGbGSgUR"
      },
      "source": [
        "We can score multiple products at the same time, which is what we need to create a ranking."
      ]
    },
    {
      "cell_type": "code",
      "execution_count": null,
      "metadata": {
        "id": "zXJQ3ah4SgUR",
        "outputId": "21389aa7-f1b8-4842-81fb-5b5f4addb3ff",
        "colab": {
          "base_uri": "https://localhost:8080/"
        }
      },
      "outputs": [
        {
          "output_type": "execute_result",
          "data": {
            "text/plain": [
              "<tf.Tensor: shape=(4, 6), dtype=float32, numpy=\n",
              "array([[-0.02220537,  0.04136939,  0.00683858, -0.00405788, -0.04347848,\n",
              "        -0.04487054],\n",
              "       [-0.01646949, -0.02100272,  0.0151557 ,  0.01069765, -0.01973487,\n",
              "        -0.02308404],\n",
              "       [-0.04572801,  0.02932609, -0.0163287 ,  0.04251078,  0.03354562,\n",
              "        -0.04800281],\n",
              "       [-0.01771278, -0.02188824,  0.01729195,  0.04284317,  0.01883117,\n",
              "        -0.03367139]], dtype=float32)>"
            ]
          },
          "metadata": {},
          "execution_count": 17
        }
      ],
      "source": [
        "example_product = tf.constant([1, 77, 104, 2062])\n",
        "product_embedding(example_product)"
      ]
    },
    {
      "cell_type": "code",
      "source": [
        "tf.tensordot(dummy_user_embedding(1),product_embedding(example_product),axes = [[0],[1]])"
      ],
      "metadata": {
        "id": "Db-WjAaLjx0X",
        "outputId": "4e5ba290-8d67-4564-e60e-3d91c9877a4d",
        "colab": {
          "base_uri": "https://localhost:8080/"
        }
      },
      "execution_count": null,
      "outputs": [
        {
          "output_type": "execute_result",
          "data": {
            "text/plain": [
              "<tf.Tensor: shape=(4,), dtype=float32, numpy=array([ 0.00064845,  0.00324576, -0.00116523, -0.00113344], dtype=float32)>"
            ]
          },
          "metadata": {},
          "execution_count": 45
        }
      ]
    },
    {
      "cell_type": "markdown",
      "metadata": {
        "id": "4NuIoDKrSgUR"
      },
      "source": [
        "And we can score multiple users for multiple products which we will need to do if we are to train quickly."
      ]
    },
    {
      "cell_type": "code",
      "execution_count": null,
      "metadata": {
        "id": "CmV_H257SgUR"
      },
      "outputs": [],
      "source": [
        ""
      ]
    },
    {
      "cell_type": "markdown",
      "metadata": {
        "id": "N62wI9GuSgUR"
      },
      "source": [
        "But we need to map product ids to embedding ids."
      ]
    },
    {
      "cell_type": "code",
      "execution_count": null,
      "metadata": {
        "id": "4aMe9KOiSgUS"
      },
      "outputs": [],
      "source": [
        "product_table = tf.lookup.StaticHashTable(\n",
        "    tf.lookup.KeyValueTensorInitializer(tf.constant(products, dtype=tf.int32), \n",
        "                                        range(len(products))), -1)"
      ]
    },
    {
      "cell_type": "markdown",
      "metadata": {
        "id": "IkTXp_W-SgUS"
      },
      "source": [
        "Let's put those two things together"
      ]
    },
    {
      "cell_type": "code",
      "execution_count": null,
      "metadata": {
        "id": "ZFd4ATI6SgUT"
      },
      "outputs": [],
      "source": [
        "class SimpleRecommender(tf.keras.Model):\n",
        "    def __init__(self, dummy_users, products, length_of_embedding):\n",
        "        super(SimpleRecommender, self).__init__()\n",
        "        self.products = tf.constant(products, dtype=tf.int32)\n",
        "        self.dummy_users = tf.constant(dummy_users, dtype=tf.string)\n",
        "        self.dummy_user_table = tf.lookup.StaticHashTable(tf.lookup.KeyValueTensorInitializer(self.dummy_users, range(len(dummy_users))), -1)\n",
        "        self.product_table = tf.lookup.StaticHashTable(tf.lookup.KeyValueTensorInitializer(self.products, range(len(products))), -1)\n",
        "        \n",
        "        self.user_embedding = tf.keras.layers.Embedding(len(dummy_users), length_of_embedding)\n",
        "        self.product_embedding = tf.keras.layers.Embedding(len(products), length_of_embedding)\n",
        "\n",
        "        self.dot = tf.keras.layers.Dot(axes = -1)\n",
        "        \n",
        "    def call(self, inputs):\n",
        "        user = inputs[0]\n",
        "        products = inputs[1]\n",
        "\n",
        "        user_embedding_index = self.dummy_user_table.lookup(user)\n",
        "        product_embedding_index = self.product_table.lookup(products)\n",
        "\n",
        "        user_embedding_values = self.user_embedding(user_embedding_index)\n",
        "        product_embedding_values = self.product_embedding(product_embedding_index)\n",
        "\n",
        "        return tf.squeeze(self.dot([user_embedding_values, product_embedding_values]), 1)\n",
        "    \n",
        "    @tf.function\n",
        "    def call_item_item(self, product):\n",
        "        product_x = self.product_table.lookup(product)\n",
        "        pe = tf.expand_dims(self.product_embedding(product_x), 0)\n",
        "        \n",
        "        all_pe = tf.expand_dims(self.product_embedding.embeddings, 0)#note this only works if the layer has been built!\n",
        "        scores = tf.reshape(self.dot([pe, all_pe]), [-1])\n",
        "        \n",
        "        top_scores, top_indices = tf.math.top_k(scores, k=100)\n",
        "        top_ids = tf.gather(self.products, top_indices)\n",
        "        return top_ids, top_scores"
      ]
    },
    {
      "cell_type": "code",
      "source": [
        "dummy_users"
      ],
      "metadata": {
        "id": "HwouEna0sgP4",
        "outputId": "5b1a89ab-79a5-4c10-a3ec-0e54512d2551",
        "colab": {
          "base_uri": "https://localhost:8080/"
        }
      },
      "execution_count": null,
      "outputs": [
        {
          "output_type": "execute_result",
          "data": {
            "text/plain": [
              "array(['pmfkU4BNZhmtLgJQwJ7x', 'UDRRwOlzlWVbu7H8YCCi',\n",
              "       'QHGAef0TI6dhn0wTogvW', ..., 'lcORJ5hemOZc1iGo9z7k',\n",
              "       '5CqDquDAszqJp27P7AL8', 'SSPNYxJMfuKhoe1dg24m'], dtype='<U20')"
            ]
          },
          "metadata": {},
          "execution_count": 49
        }
      ]
    },
    {
      "cell_type": "code",
      "source": [
        "products\n"
      ],
      "metadata": {
        "id": "2qnSVwgitJ5d",
        "outputId": "e4a60787-80e2-42b9-dca8-315f05edfd63",
        "colab": {
          "base_uri": "https://localhost:8080/"
        }
      },
      "execution_count": null,
      "outputs": [
        {
          "output_type": "execute_result",
          "data": {
            "text/plain": [
              "array([ 8650774,  9306139,  9961521, ..., 12058614, 12058615, 11927550])"
            ]
          },
          "metadata": {},
          "execution_count": 51
        }
      ]
    },
    {
      "cell_type": "code",
      "source": [
        "sr1 = SimpleRecommender(dummy_users, products, 15)\n",
        "sr1([tf.constant([['pmfkU4BNZhmtLgJQwJ7x'],['UDRRwOlzlWVbu7H8YCCi']]),tf.constant([[8650774,  9306139,  9961521],[12058614, 12058615, 11927550]])])"
      ],
      "metadata": {
        "id": "NxtmMZfrsKUr",
        "outputId": "6ef77e1d-39f6-4897-b088-3592228822e8",
        "colab": {
          "base_uri": "https://localhost:8080/"
        }
      },
      "execution_count": null,
      "outputs": [
        {
          "output_type": "execute_result",
          "data": {
            "text/plain": [
              "<tf.Tensor: shape=(2, 3), dtype=float32, numpy=\n",
              "array([[ 0.00107294, -0.00777534, -0.0041576 ],\n",
              "       [-0.0047044 , -0.00320701,  0.00086349]], dtype=float32)>"
            ]
          },
          "metadata": {},
          "execution_count": 19
        }
      ]
    },
    {
      "cell_type": "markdown",
      "metadata": {
        "id": "224Qt8NGSgUU"
      },
      "source": [
        "# Creating a dataset"
      ]
    },
    {
      "cell_type": "markdown",
      "metadata": {
        "id": "U04xDAxbSgUU"
      },
      "source": [
        "First create a tf.data.Dataset from the user purchase pairs."
      ]
    },
    {
      "cell_type": "code",
      "execution_count": null,
      "metadata": {
        "id": "zmwWTAEVSgUU",
        "outputId": "4e3559e3-d31c-4e4f-9701-0368ef19348f",
        "colab": {
          "base_uri": "https://localhost:8080/"
        }
      },
      "outputs": [
        {
          "output_type": "stream",
          "name": "stdout",
          "text": [
            "tf.Tensor([b'PIXcm7Ru5KmntCy0yA1K'], shape=(1,), dtype=string)\n",
            "tf.Tensor([10524048], shape=(1,), dtype=int32)\n"
          ]
        }
      ],
      "source": [
        "dummy_user_tensor = tf.constant(train[[\"dummyUserId\"]].values, dtype=tf.string)\n",
        "product_tensor = tf.constant(train[[\"productId\"]].values, dtype=tf.int32)\n",
        "\n",
        "dataset = tf.data.Dataset.from_tensor_slices((dummy_user_tensor, product_tensor))\n",
        "for x, y in dataset:\n",
        "    print(x)\n",
        "    print(y)\n",
        "    break"
      ]
    },
    {
      "cell_type": "code",
      "source": [
        "random_negatives_indexs = tf.random.uniform((7,), minval = 0, maxval = len(products), dtype = tf.int32)"
      ],
      "metadata": {
        "id": "9mtsiBSV0-Xn"
      },
      "execution_count": null,
      "outputs": []
    },
    {
      "cell_type": "code",
      "source": [
        "tf.gather(products, random_negatives_indexs)"
      ],
      "metadata": {
        "id": "_VrH_TsM1jwV",
        "outputId": "341393a4-471b-4fb5-e863-f90911296480",
        "colab": {
          "base_uri": "https://localhost:8080/"
        }
      },
      "execution_count": null,
      "outputs": [
        {
          "output_type": "execute_result",
          "data": {
            "text/plain": [
              "<tf.Tensor: shape=(7,), dtype=int64, numpy=\n",
              "array([ 8020122, 11590295, 11756713, 11533829, 10471910, 12273427,\n",
              "       11842820])>"
            ]
          },
          "metadata": {},
          "execution_count": 19
        }
      ]
    },
    {
      "cell_type": "markdown",
      "metadata": {
        "id": "0mkbuQL1SgUU"
      },
      "source": [
        "For each purchase let's sample a number of products that the user did not purchase. Then the model can score each of the products and we will know we are doing a good job if the product with the highest score is the product that the user actually purchased.\n",
        "\n",
        "We can do this using dataset.map"
      ]
    },
    {
      "cell_type": "code",
      "source": [
        "tf.one_hot(0,depth = 11)"
      ],
      "metadata": {
        "id": "KGnf2DYK4k9T",
        "outputId": "332bc998-8ca8-4d1f-c1c4-9a25cb85f54d",
        "colab": {
          "base_uri": "https://localhost:8080/"
        }
      },
      "execution_count": null,
      "outputs": [
        {
          "output_type": "execute_result",
          "data": {
            "text/plain": [
              "<tf.Tensor: shape=(11,), dtype=float32, numpy=array([1., 0., 0., 0., 0., 0., 0., 0., 0., 0., 0.], dtype=float32)>"
            ]
          },
          "metadata": {},
          "execution_count": 65
        }
      ]
    },
    {
      "cell_type": "code",
      "execution_count": null,
      "metadata": {
        "id": "sjx4jTznSgUV"
      },
      "outputs": [],
      "source": [
        "class Mapper():\n",
        "    \n",
        "    def __init__(self, possible_products, num_negative_products):\n",
        "        self.num_possible_products = len(possible_products)\n",
        "        self.possible_products_tensor = tf.constant(possible_products, dtype=tf.int32)\n",
        "        \n",
        "        self.num_negative_products = num_negative_products\n",
        "        self.y = tf.one_hot(0, num_negative_products+1)\n",
        "    \n",
        "    def __call__(self, user, product):\n",
        "        random_negatives_indexs = tf.random.uniform((self.num_negative_products,), minval = 0, maxval = self.num_possible_products, dtype = tf.int32)\n",
        "        negatives = tf.gather(self.possible_products_tensor, random_negatives_indexs)\n",
        "        candidates = tf.concat([product, negatives], axis=0)\n",
        "        return (user, candidates), self.y"
      ]
    },
    {
      "cell_type": "code",
      "source": [
        "dataset = tf.data.Dataset.from_tensor_slices((dummy_user_tensor, product_tensor)).map(Mapper(products, 10))\n",
        "for (u, c),y in dataset:\n",
        "  print(u)\n",
        "  print(c)\n",
        "  print(y)\n",
        "  break"
      ],
      "metadata": {
        "id": "KXi5Ejk23UV9",
        "outputId": "2a7024c4-34e5-4026-f2a1-f1a9852a85c4",
        "colab": {
          "base_uri": "https://localhost:8080/"
        }
      },
      "execution_count": null,
      "outputs": [
        {
          "output_type": "stream",
          "name": "stdout",
          "text": [
            "tf.Tensor([b'PIXcm7Ru5KmntCy0yA1K'], shape=(1,), dtype=string)\n",
            "tf.Tensor(\n",
            "[10524048  9197915 12944932 10715306 12319385  9527987 10537465 11553583\n",
            " 10952762 13175230  9849906], shape=(11,), dtype=int32)\n",
            "tf.Tensor([1. 0. 0. 0. 0. 0. 0. 0. 0. 0. 0.], shape=(11,), dtype=float32)\n"
          ]
        }
      ]
    },
    {
      "cell_type": "markdown",
      "metadata": {
        "id": "bEdmJVoGSgUV"
      },
      "source": [
        "Let's bring the steps together to define a function which creates a dataset "
      ]
    },
    {
      "cell_type": "code",
      "execution_count": null,
      "metadata": {
        "id": "AiC01vN7SgUV"
      },
      "outputs": [],
      "source": [
        "def get_dataset(df, products, num_negative_products):\n",
        "    dummy_user_tensor = tf.constant(df[[\"dummyUserId\"]].values, dtype=tf.string)\n",
        "    product_tensor = tf.constant(df[[\"productId\"]].values, dtype=tf.int32)\n",
        "\n",
        "    dataset = tf.data.Dataset.from_tensor_slices((dummy_user_tensor, product_tensor))\n",
        "    dataset = dataset.map(Mapper(products, num_negative_products))\n",
        "    dataset = dataset.batch(1024)\n",
        "    return dataset"
      ]
    },
    {
      "cell_type": "code",
      "source": [
        "for (u,c), y in get_dataset(train, products, 4):\n",
        "  print(u)\n",
        "  print(c)\n",
        "  print(y)\n",
        "  break"
      ],
      "metadata": {
        "id": "LImLh2RF6FNh",
        "outputId": "687bb023-ae8c-4783-b99f-d21298ef589f",
        "colab": {
          "base_uri": "https://localhost:8080/"
        }
      },
      "execution_count": null,
      "outputs": [
        {
          "output_type": "stream",
          "name": "stdout",
          "text": [
            "tf.Tensor(\n",
            "[[b'PIXcm7Ru5KmntCy0yA1K']\n",
            " [b'd0RILFB1hUzNSINMY4Ow']\n",
            " [b'Ebax7lyhnKRm4xeRlWW2']\n",
            " ...\n",
            " [b'xuX9n8PHfSR0AP3UZ8ar']\n",
            " [b'iNnxsPFfOa9884fMjVPJ']\n",
            " [b'aD8Mn12im8lFPzXAY41P']], shape=(1024, 1), dtype=string)\n",
            "tf.Tensor(\n",
            "[[10524048 10818006  9286497 11937472 13146985]\n",
            " [ 9137713 11455407 10797275 12049325 10172148]\n",
            " [ 5808602  8782509  9430603 10524937  8259694]\n",
            " ...\n",
            " [11541336 11390873  9820527 10529177 10906660]\n",
            " [ 7779232 11938346 11923383 10728207 10309914]\n",
            " [ 4941259  9102997 11776806 10031596 11279983]], shape=(1024, 5), dtype=int32)\n",
            "tf.Tensor(\n",
            "[[1. 0. 0. 0. 0.]\n",
            " [1. 0. 0. 0. 0.]\n",
            " [1. 0. 0. 0. 0.]\n",
            " ...\n",
            " [1. 0. 0. 0. 0.]\n",
            " [1. 0. 0. 0. 0.]\n",
            " [1. 0. 0. 0. 0.]], shape=(1024, 5), dtype=float32)\n"
          ]
        }
      ]
    },
    {
      "cell_type": "markdown",
      "metadata": {
        "id": "zEqRYxYiSgUV"
      },
      "source": [
        "# Train a model"
      ]
    },
    {
      "cell_type": "markdown",
      "metadata": {
        "id": "Nsn0Uzj5SgUV"
      },
      "source": [
        "We need to compile a model, set the loss and create an evaluation metric. Then we need to train the model."
      ]
    },
    {
      "cell_type": "code",
      "execution_count": null,
      "metadata": {
        "id": "IIPTkIhhSgUW",
        "outputId": "c511fe4e-4203-4e12-ec39-5a372e500724",
        "colab": {
          "base_uri": "https://localhost:8080/"
        }
      },
      "outputs": [
        {
          "output_type": "stream",
          "name": "stdout",
          "text": [
            "Epoch 1/5\n",
            "162/162 [==============================] - 9s 49ms/step - loss: 4.6151 - categorical_accuracy: 0.0134 - val_loss: 4.6151 - val_categorical_accuracy: 0.0185\n",
            "Epoch 2/5\n",
            "162/162 [==============================] - 8s 49ms/step - loss: 4.6120 - categorical_accuracy: 0.0824 - val_loss: 4.6147 - val_categorical_accuracy: 0.0457\n",
            "Epoch 3/5\n",
            "162/162 [==============================] - 8s 49ms/step - loss: 4.5983 - categorical_accuracy: 0.1912 - val_loss: 4.6060 - val_categorical_accuracy: 0.0725\n",
            "Epoch 4/5\n",
            "162/162 [==============================] - 8s 49ms/step - loss: 4.5243 - categorical_accuracy: 0.2425 - val_loss: 4.5525 - val_categorical_accuracy: 0.0977\n",
            "Epoch 5/5\n",
            "162/162 [==============================] - 8s 49ms/step - loss: 4.3056 - categorical_accuracy: 0.2436 - val_loss: 4.4079 - val_categorical_accuracy: 0.1097\n"
          ]
        },
        {
          "output_type": "execute_result",
          "data": {
            "text/plain": [
              "<keras.callbacks.History at 0x7f4430260250>"
            ]
          },
          "metadata": {},
          "execution_count": 23
        }
      ],
      "source": [
        "model = SimpleRecommender(dummy_users, products, 15)\n",
        "model.compile(loss = tf.keras.losses.CategoricalCrossentropy(from_logits = True), optimizer = tf.keras.optimizers.SGD(learning_rate= 100.), metrics = tf.keras.metrics.CategoricalAccuracy())\n",
        "\n",
        "model.fit(get_dataset(train, products, 100), validation_data = get_dataset(valid,products, 100), epochs = 5)"
      ]
    },
    {
      "cell_type": "markdown",
      "metadata": {
        "id": "Ho8QUUJESgUW"
      },
      "source": [
        "Let's do a manual check on whether the model is any good."
      ]
    },
    {
      "cell_type": "code",
      "execution_count": null,
      "metadata": {
        "id": "HONF95GRSgUW"
      },
      "outputs": [],
      "source": [
        "test_product = 11698965"
      ]
    },
    {
      "cell_type": "code",
      "execution_count": null,
      "metadata": {
        "id": "lUDOU8luSgUW",
        "outputId": "30bfda6e-a97e-4e35-8f96-a506e85af74e",
        "colab": {
          "base_uri": "https://localhost:8080/"
        }
      },
      "outputs": [
        {
          "output_type": "stream",
          "name": "stdout",
          "text": [
            "Recs for item 11698965: (<tf.Tensor: shape=(100,), dtype=int32, numpy=\n",
            "array([11950358,  5801178, 10402703,  8661992, 11660467, 11888641,\n",
            "       11499946, 12115410, 10505036,  7134751, 11374873, 10990591,\n",
            "       11116710, 10636194, 12050426, 11448828,  9500372, 11230891,\n",
            "       10370822,  7285091,  9109180,  5240244, 10375083, 11113894,\n",
            "       11890074, 12261521, 11165000, 11491053, 10880400,  9923444,\n",
            "       11856623, 11021553, 11541077, 10171156, 11378317, 10351406,\n",
            "       10953790, 10487343,  9606234,  9412811, 10069701, 10394951,\n",
            "       11387422, 13536031,  8713887,  8888567, 10636823, 10366899,\n",
            "       10613554, 10214652, 11723487, 10965260,  9559937,  9426981,\n",
            "       11701095, 10274163, 12241759, 10917206, 12537084,  9516257,\n",
            "       11603928, 13329218,  8321496, 10677500, 10490457, 12606047,\n",
            "       12064570, 12096403,  9200087, 10614054, 10636211, 10208752,\n",
            "        8064059, 10943107, 11405773, 11301034, 12296543, 11393443,\n",
            "       10605536, 12463221, 11409896, 11406238, 10976187, 10837584,\n",
            "       10689408, 11856040, 10068212, 10941667, 11255096, 12248306,\n",
            "        9464030,  8730081,  9747722, 10424937,  9658200, 10744897,\n",
            "        9414109,  9916442, 11434701, 10857447], dtype=int32)>, <tf.Tensor: shape=(100,), dtype=float32, numpy=\n",
            "array([0.20165558, 0.19903813, 0.17480153, 0.16203292, 0.13868254,\n",
            "       0.12990873, 0.11327709, 0.10531027, 0.10402185, 0.09273723,\n",
            "       0.08680786, 0.08673683, 0.08560084, 0.08504875, 0.08330646,\n",
            "       0.08228221, 0.08150356, 0.08091945, 0.07875606, 0.07870694,\n",
            "       0.07867074, 0.07849496, 0.07697266, 0.07256959, 0.07110585,\n",
            "       0.07086882, 0.07018478, 0.06927245, 0.06877923, 0.06600158,\n",
            "       0.06595157, 0.06402714, 0.06398794, 0.0634014 , 0.06337159,\n",
            "       0.06328229, 0.0595964 , 0.05956493, 0.05894807, 0.05785164,\n",
            "       0.05720052, 0.05698127, 0.05605485, 0.05563885, 0.05509367,\n",
            "       0.05350009, 0.05313303, 0.05288754, 0.05250869, 0.05150813,\n",
            "       0.05052509, 0.04940713, 0.0493977 , 0.04934452, 0.04919129,\n",
            "       0.04901946, 0.04878274, 0.04858565, 0.04836971, 0.04759581,\n",
            "       0.04752089, 0.0471443 , 0.04669768, 0.04652073, 0.04650366,\n",
            "       0.04643826, 0.04641777, 0.04625262, 0.04622717, 0.04602659,\n",
            "       0.04583402, 0.04583207, 0.0456146 , 0.04559221, 0.04545225,\n",
            "       0.04532668, 0.04531354, 0.04524457, 0.0451432 , 0.04501959,\n",
            "       0.04482019, 0.0447773 , 0.04469991, 0.04452974, 0.04430721,\n",
            "       0.0441368 , 0.04409141, 0.04408161, 0.04408138, 0.04406222,\n",
            "       0.04394362, 0.04348572, 0.04343846, 0.0433763 , 0.04336438,\n",
            "       0.04335021, 0.04331522, 0.04320867, 0.04314017, 0.0430875 ],\n",
            "      dtype=float32)>)\n"
          ]
        }
      ],
      "source": [
        "print(\"Recs for item {}: {}\".format(test_product, model.call_item_item(tf.constant(test_product, dtype=tf.int32))))"
      ]
    },
    {
      "cell_type": "markdown",
      "metadata": {
        "id": "RoSgLExCSgUW"
      },
      "source": [
        "# Save the model"
      ]
    },
    {
      "cell_type": "code",
      "execution_count": null,
      "metadata": {
        "id": "ER2wAQ8USgUW"
      },
      "outputs": [],
      "source": [
        "model_path = \"models/recommender/1\""
      ]
    },
    {
      "cell_type": "code",
      "execution_count": null,
      "metadata": {
        "id": "cINf7lOcSgUX"
      },
      "outputs": [],
      "source": [
        "inpute_signature = tf.TensorSpec(shape=(), dtype=tf.int32)"
      ]
    },
    {
      "cell_type": "code",
      "execution_count": null,
      "metadata": {
        "id": "tx-ABeO8SgUX"
      },
      "outputs": [],
      "source": [
        "signatures = { 'call_item_item': model.call_item_item.get_concrete_function(inpute_signature)}"
      ]
    },
    {
      "cell_type": "code",
      "execution_count": null,
      "metadata": {
        "id": "ku-_uAiJSgUX",
        "outputId": "8e618cb9-1ad7-4ae4-8790-14c01011d91b",
        "colab": {
          "base_uri": "https://localhost:8080/"
        }
      },
      "outputs": [
        {
          "output_type": "stream",
          "name": "stdout",
          "text": [
            "INFO:tensorflow:Assets written to: models/recommender/1/assets\n"
          ]
        }
      ],
      "source": [
        "tf.saved_model.save(model, model_path, signatures = signatures)"
      ]
    },
    {
      "cell_type": "code",
      "execution_count": null,
      "metadata": {
        "id": "PlHQZwGQSgUX",
        "outputId": "82517a16-43b5-4bca-a627-e8ab1ac85b74",
        "colab": {
          "base_uri": "https://localhost:8080/"
        }
      },
      "outputs": [
        {
          "output_type": "execute_result",
          "data": {
            "text/plain": [
              "['call_item_item']"
            ]
          },
          "metadata": {},
          "execution_count": 30
        }
      ],
      "source": [
        "imported_model = tf.saved_model.load('models/recommender/1')\n",
        "list(imported_model.signatures.keys())"
      ]
    },
    {
      "cell_type": "code",
      "source": [
        "result_tensor = imported_model.signatures['call_item_item'](tf.constant([14844847]))\n",
        "\n",
        "from IPython.core.display import HTML\n",
        "\n",
        "def path_to_image_html(path):\n",
        "  return '<img src = https://images.asos-media.com/products/ugg-classic-mini-boots-in-black-suede/' + str(path) + '-2\" width = \"60\" >'\n",
        "\n",
        "result_df = pd.DataFrame(result_tensor['output_0'].numpy(), columns = ['ProductUrl']).head(5)\n",
        "HTML(result_df.to_html(escape = False, formatters = dict(ProductUrl = path_to_image_html)))"
      ],
      "metadata": {
        "id": "w-9WHLYjL4BX",
        "outputId": "900703b8-d6f7-4629-b1bc-accdf6e58542",
        "colab": {
          "base_uri": "https://localhost:8080/",
          "height": 219
        }
      },
      "execution_count": null,
      "outputs": [
        {
          "output_type": "execute_result",
          "data": {
            "text/plain": [
              "<IPython.core.display.HTML object>"
            ],
            "text/html": [
              "<table border=\"1\" class=\"dataframe\">\n",
              "  <thead>\n",
              "    <tr style=\"text-align: right;\">\n",
              "      <th></th>\n",
              "      <th>ProductUrl</th>\n",
              "    </tr>\n",
              "  </thead>\n",
              "  <tbody>\n",
              "    <tr>\n",
              "      <th>0</th>\n",
              "      <td><img src = https://images.asos-media.com/products/ugg-classic-mini-boots-in-black-suede/8650774-2\" width = \"60\" ></td>\n",
              "    </tr>\n",
              "    <tr>\n",
              "      <th>1</th>\n",
              "      <td><img src = https://images.asos-media.com/products/ugg-classic-mini-boots-in-black-suede/9306139-2\" width = \"60\" ></td>\n",
              "    </tr>\n",
              "    <tr>\n",
              "      <th>2</th>\n",
              "      <td><img src = https://images.asos-media.com/products/ugg-classic-mini-boots-in-black-suede/9961521-2\" width = \"60\" ></td>\n",
              "    </tr>\n",
              "    <tr>\n",
              "      <th>3</th>\n",
              "      <td><img src = https://images.asos-media.com/products/ugg-classic-mini-boots-in-black-suede/13238328-2\" width = \"60\" ></td>\n",
              "    </tr>\n",
              "    <tr>\n",
              "      <th>4</th>\n",
              "      <td><img src = https://images.asos-media.com/products/ugg-classic-mini-boots-in-black-suede/10485819-2\" width = \"60\" ></td>\n",
              "    </tr>\n",
              "  </tbody>\n",
              "</table>"
            ]
          },
          "metadata": {},
          "execution_count": 32
        }
      ]
    },
    {
      "cell_type": "code",
      "execution_count": null,
      "metadata": {
        "id": "sJ0gc5n1SgUX"
      },
      "outputs": [],
      "source": [
        "imported_model.signatures['call_item_item'](tf.constant([14844847]))"
      ]
    },
    {
      "cell_type": "code",
      "execution_count": null,
      "metadata": {
        "id": "hjZqqtglSgUX"
      },
      "outputs": [],
      "source": [
        "os.makedirs(\"dummy/0\")\n",
        "tf.saved_model.save(model, 'dummy/0')    \n",
        "imported = tf.saved_model.load(\"dummy/0\")\n",
        "imported(tf.constant([14844847]))"
      ]
    },
    {
      "cell_type": "code",
      "execution_count": null,
      "metadata": {
        "id": "QbtJcWDASgUX"
      },
      "outputs": [],
      "source": [
        "os.makedirs(\"dummy/1\")\n",
        "tf.saved_model.save(model, 'dummy/1',\n",
        "                    model.call_item_item.get_concrete_function(tf.TensorSpec(shape=(), dtype=tf.int32)))      \n",
        "list(imported_model.signatures.keys())"
      ]
    },
    {
      "cell_type": "code",
      "execution_count": null,
      "metadata": {
        "id": "P34r9MFASgUY"
      },
      "outputs": [],
      "source": [
        "imported_model.signatures['serving_default'](tf.constant([14844847]))"
      ]
    },
    {
      "cell_type": "markdown",
      "metadata": {
        "id": "BAZaDSi6SgUY"
      },
      "source": [
        "Zipping the saved model will make it easier to download."
      ]
    },
    {
      "cell_type": "code",
      "execution_count": null,
      "metadata": {
        "id": "3bQ7-_aeSgUY"
      },
      "outputs": [],
      "source": [
        "from zipfile import ZipFile\n",
        "import os\n",
        "# create a ZipFile object\n",
        "with ZipFile('recommender.zip', 'w') as zipObj:\n",
        "   # Iterate over all the files in directory\n",
        "    for folderName, subfolders, filenames in os.walk(\"models\"):\n",
        "        for filename in filenames:\n",
        "           #create complete filepath of file in directory\n",
        "           filePath = os.path.join(folderName, filename)\n",
        "           # Add file to zip\n",
        "           zipObj.write(filePath)"
      ]
    },
    {
      "cell_type": "code",
      "execution_count": null,
      "metadata": {
        "id": "lgBwP_jmSgUY"
      },
      "outputs": [],
      "source": [
        ""
      ]
    }
  ],
  "metadata": {
    "kernelspec": {
      "display_name": "Python 3",
      "language": "python",
      "name": "python3"
    },
    "language_info": {
      "codemirror_mode": {
        "name": "ipython",
        "version": 3
      },
      "file_extension": ".py",
      "mimetype": "text/x-python",
      "name": "python",
      "nbconvert_exporter": "python",
      "pygments_lexer": "ipython3",
      "version": "3.7.1"
    },
    "colab": {
      "name": "Копия блокнота \"DSF-ASOS_Build_and_Deploy_a_Recommender_in_3_Hours.ipynb\"",
      "provenance": [],
      "include_colab_link": true
    },
    "accelerator": "GPU",
    "gpuClass": "standard"
  },
  "nbformat": 4,
  "nbformat_minor": 0
}